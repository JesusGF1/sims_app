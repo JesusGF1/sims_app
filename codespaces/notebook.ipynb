{
 "cells": [
  {
   "cell_type": "markdown",
   "metadata": {},
   "source": [
    "# **SIMS: jupyter notebook for simple training and inference**"
   ]
  },
  {
   "cell_type": "markdown",
   "metadata": {},
   "source": [
    "This notebook is designed to assist in running SIMS to perform basic training, or for cell type inference using our pre-trained model checkpoints. For more advanced customization and detailed instructions on running SIMS through the API, please refer to the SIMS GitHub repository: https://github.com/braingeneers/SIMS"
   ]
  },
  {
   "cell_type": "markdown",
   "metadata": {},
   "source": [
    "## Getting started"
   ]
  },
  {
   "cell_type": "markdown",
   "metadata": {},
   "source": [
    "To get started, locate and run the setup_sims_env.sh file within this directory to set up your virtual environment. This ensures that SIMS runs with the correct software dependencies. After executing the script, make sure to select the newly created environment as the kernel for this notebook. It is essential to use Python 3.9.\n",
    "\n",
    "Next, download the following libraries:"
   ]
  },
  {
   "cell_type": "code",
   "execution_count": null,
   "metadata": {},
   "outputs": [],
   "source": [
    "from scsims import SIMS\n",
    "from pytorch_lightning.loggers import WandbLogger\n",
    "import anndata as an"
   ]
  },
  {
   "cell_type": "markdown",
   "metadata": {},
   "source": [
    "## Training"
   ]
  },
  {
   "cell_type": "markdown",
   "metadata": {},
   "source": [
    "**NOTE:** Use this section to train your own model using a labeled dataset. If you would just like to make predictions using a pretrained model checkpoint from our checkpoint folder, please skip to the Inference section.\n",
    "\n",
    "*For custom training jobs and logging, we recommend running SIMS via an API. Please refer to our GitHub for instructions: https://github.com/braingeneers/SIMS*"
   ]
  },
  {
   "cell_type": "markdown",
   "metadata": {},
   "source": [
    "#### Load training data, initialize SIMS model, and train. "
   ]
  },
  {
   "cell_type": "code",
   "execution_count": null,
   "metadata": {},
   "outputs": [],
   "source": [
    "labeled_data_path = \"/my_labeled_data.h5ad\"  # Replace 'my_labeled_data.h5ad' with the \n",
    "                                             # data you would like to use for training\n",
    "                                            \n",
    "train_data = an.read_h5ad(labeled_data_path)\n",
    "\n",
    "sims = SIMS(data=train_data, class_label='class_label')  # Change 'class_label' to be the variable you are predicting for\n",
    "\n",
    "sims.train()  # Begin training the model. Checkpoints will save automatically  \n",
    "              # to a 'lightning_logs' directory in the current working directory"
   ]
  },
  {
   "cell_type": "markdown",
   "metadata": {},
   "source": [
    "## Inference"
   ]
  },
  {
   "cell_type": "markdown",
   "metadata": {},
   "source": [
    "#### Load data and initialize SIMS model"
   ]
  },
  {
   "cell_type": "code",
   "execution_count": null,
   "metadata": {},
   "outputs": [],
   "source": [
    "checkpoint_path = '../checkpoint/myawesomemodel.ckpt'   # Replace '../checkpoint/myawesomemodel.ckpt' with the path to a\n",
    "                                                        # pretrained model from the sims_app/checkpoint folder. Alternatively, \n",
    "                                                        # you can load your own .ckpt file developed during training from the \n",
    "                                                        # 'lightning_logs' directory  \n",
    "                                                        \n",
    "test_data_path = '/my_test_data.h5ad'  # Replace 'my_test_data.h5ad' with the data you would like\n",
    "                                       # to perform predictions on using your chosen model checkpoint\n",
    "\n",
    "sims = SIMS(weights_path=checkpoint_path)  # Initialize the SIMS model with the checkpoint"
   ]
  },
  {
   "cell_type": "markdown",
   "metadata": {},
   "source": [
    "#### Run and save predictions"
   ]
  },
  {
   "cell_type": "code",
   "execution_count": null,
   "metadata": {},
   "outputs": [],
   "source": [
    "cell_predictions = sims.predict(test_data_path)  # Run predictions\n",
    "\n",
    "cell_predictions.to_csv('predictions.csv')  # Save predictions"
   ]
  },
  {
   "cell_type": "markdown",
   "metadata": {},
   "source": [
    "#### View the explainability of the model"
   ]
  },
  {
   "cell_type": "code",
   "execution_count": null,
   "metadata": {},
   "outputs": [],
   "source": [
    "explainability_matrix = sims.explain(test_data_path)  # Generate explainability matrix"
   ]
  }
 ],
 "metadata": {
  "kernelspec": {
   "display_name": "Python 3",
   "language": "python",
   "name": "python3"
  },
  "language_info": {
   "codemirror_mode": {
    "name": "ipython",
    "version": 3
   },
   "file_extension": ".py",
   "mimetype": "text/x-python",
   "name": "python",
   "nbconvert_exporter": "python",
   "pygments_lexer": "ipython3",
   "version": "3.9.19"
  }
 },
 "nbformat": 4,
 "nbformat_minor": 2
}
