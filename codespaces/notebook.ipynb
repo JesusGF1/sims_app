{
 "cells": [
  {
   "cell_type": "markdown",
   "metadata": {},
   "source": [
    "# **SIMS: jupyter notebook for simple training and inference**"
   ]
  },
  {
   "cell_type": "markdown",
   "metadata": {},
   "source": [
    "This notebook is designed to assist in running SIMS for basic model training or performing cell type inference using our pre-trained model checkpoints. We recommend using this notebook within GitHub Codespaces. If you are looking for a step-by-step SIMS tutorial with example data, please use [this link](https://colab.research.google.com/drive/1UrsNTrd-JYRpg1MMQSLQhT6OHcSkloIX). For more advanced training customization, refer to the SIMS GitHub repository for API usage instructions: https://github.com/braingeneers/SIMS"
   ]
  },
  {
   "cell_type": "markdown",
   "metadata": {},
   "source": [
    "## Getting started"
   ]
  },
  {
   "cell_type": "markdown",
   "metadata": {},
   "source": [
    "To get started, drag and drop your `.h5ad` files into the `codespaces` folder for easy access."
   ]
  },
  {
   "cell_type": "markdown",
   "metadata": {},
   "source": [
    "Locate and run the `setup_sims_env.sh` file within this directory to set up your virtual environment.\n",
    "\n",
    "- In your terminal, execute the following commands:\n",
    "\n",
    "    `chmod +x setup_sims_env.sh`\n",
    "\n",
    "    `./setup_sims_env.sh` \n",
    "\n",
    "- This ensures that SIMS runs with the correct software dependencies. \n",
    "\n",
    "\n",
    "After executing the script, make sure to select the newly created `sims_env` environment as the kernel for this notebook. It is essential to use Python3.9."
   ]
  },
  {
   "cell_type": "markdown",
   "metadata": {},
   "source": [
    "Next, download the following libraries:"
   ]
  },
  {
   "cell_type": "code",
   "execution_count": null,
   "metadata": {},
   "outputs": [],
   "source": [
    "from scsims import SIMS\n",
    "import pandas as pd\n",
    "import anndata as an\n",
    "import torch\n",
    "from scsims import SIMS\n",
    "from pytorch_lightning.callbacks import EarlyStopping, ModelCheckpoint"
   ]
  },
  {
   "cell_type": "markdown",
   "metadata": {},
   "source": [
    "-----------------"
   ]
  },
  {
   "cell_type": "markdown",
   "metadata": {},
   "source": [
    "## Training"
   ]
  },
  {
   "cell_type": "markdown",
   "metadata": {},
   "source": [
    "**Note:** We recommend using pretrained models with this notebook, but we have also included instructions for training your own model. If you want to train a model using a labeled dataset, follow this section. If you only need to make predictions using a pretrained model checkpoint from our checkpoint folder, **please skip to the Inference section.**"
   ]
  },
  {
   "cell_type": "markdown",
   "metadata": {},
   "source": [
    "#### Load training data and initialize SIMS model"
   ]
  },
  {
   "cell_type": "markdown",
   "metadata": {},
   "source": [
    "- Don't forget to replace the file paths and class label!\n",
    "\n",
    "- Your training data should be located in this folder (`codespaces`), assuming you uploaded your `.h5ad` files here for easy access. "
   ]
  },
  {
   "cell_type": "code",
   "execution_count": null,
   "metadata": {},
   "outputs": [],
   "source": [
    "labeled_data_path = \"/my_labeled_data.h5ad\"  # Replace 'my_labeled_data.h5ad' with the labeled\n",
    "                                             # data you would like to use for training.\n",
    "                                            \n",
    "train_data = an.read_h5ad(labeled_data_path)\n",
    "\n",
    "sims = SIMS(data=train_data, class_label='class_label')  # Change 'class_label' to be the variable you are predicting for"
   ]
  },
  {
   "cell_type": "markdown",
   "metadata": {},
   "source": [
    "**Note:** For more customized training configurations, view the [Google Colab tutorial](https://colab.research.google.com/drive/1UrsNTrd-JYRpg1MMQSLQhT6OHcSkloIX#scrollTo=kIYU37mymllr) that walks through configurating the training process with sample data. "
   ]
  },
  {
   "cell_type": "markdown",
   "metadata": {},
   "source": [
    "#### Begin training\n",
    "\n",
    "- Checkpoints will save automatically to a `lightning_logs` directory in the current working directory"
   ]
  },
  {
   "cell_type": "code",
   "execution_count": null,
   "metadata": {},
   "outputs": [],
   "source": [
    "sims.train()  # Train the model"
   ]
  },
  {
   "cell_type": "markdown",
   "metadata": {},
   "source": [
    "--------"
   ]
  },
  {
   "cell_type": "markdown",
   "metadata": {},
   "source": [
    "## Inference"
   ]
  },
  {
   "cell_type": "markdown",
   "metadata": {},
   "source": [
    "#### Load data and initialize SIMS model"
   ]
  },
  {
   "cell_type": "markdown",
   "metadata": {},
   "source": [
    "- Don't forget to change the file paths!\n",
    "\n",
    "- Your test data should be located in this folder (`codespaces`), assuming you uploaded your `.h5ad` files here for easy access. "
   ]
  },
  {
   "cell_type": "code",
   "execution_count": null,
   "metadata": {},
   "outputs": [],
   "source": [
    "checkpoint_path = '../checkpoint/myawesomemodel.ckpt'   # Replace '../checkpoint/myawesomemodel.ckpt' with the path to a\n",
    "                                                        # pretrained model from the sims_app/checkpoint folder. Alternatively, \n",
    "                                                        # you can load your own .ckpt file developed during training from the \n",
    "                                                        # 'lightning_logs' directory  \n",
    "                                                        \n",
    "test_data_path = '/my_test_data.h5ad'  # Replace 'my_test_data.h5ad' with the data you would like\n",
    "                                       # to perform predictions on using your chosen model checkpoint. \n",
    "\n",
    "sims = SIMS(weights_path=checkpoint_path)  # Initialize the SIMS model with the checkpoint"
   ]
  },
  {
   "cell_type": "markdown",
   "metadata": {},
   "source": [
    "#### Run and save predictions"
   ]
  },
  {
   "cell_type": "markdown",
   "metadata": {},
   "source": [
    "- Uses `sims.predict` to run predictions on test data with your chosen checkpoint.\n",
    "\n",
    "- Saves predictions to a `.csv` file."
   ]
  },
  {
   "cell_type": "code",
   "execution_count": null,
   "metadata": {},
   "outputs": [],
   "source": [
    "cell_predictions = sims.predict(test_data_path)  # Predict\n",
    "cell_predictions.to_csv('predictions.csv')  # Save"
   ]
  },
  {
   "cell_type": "markdown",
   "metadata": {},
   "source": [
    "#### View the explainability of the model\n",
    "\n"
   ]
  },
  {
   "cell_type": "markdown",
   "metadata": {},
   "source": [
    "- Assesses the importance of different genes in making predictions.\n",
    "\n",
    "- Uses `sims.explain`(`test_data_path`) to create an explainability matrix for the test data.\n",
    "\n",
    "- Obtains the list of gene names from the SIMS model using `sims.model.genes`.\n",
    "\n",
    "- Constructs a Pandas DataFrame, `explain`, using the explainability matrix and gene names as column headers.\n",
    "\n",
    "- Computes the mean explanation score for each gene across all samples with `explain.mean(axis=0`)`.\n",
    "\n",
    "- Determines the variance of the explanation scores for each gene across all samples using `explain.var(axis=0)`.\n",
    "\n",
    "- Combines the mean and variance data into a new Pandas DataFrame, `mean_and_var_data`, and labels the columns as `mean_explain` and `var_explain`.\n",
    "\n",
    "- Prints out the top 10 most influential genes."
   ]
  },
  {
   "cell_type": "code",
   "execution_count": null,
   "metadata": {},
   "outputs": [],
   "source": [
    "explainability_matrix = sims.explain(test_data_path)  # Generate explainability matrix\n",
    "gene_names = sims.model.genes  # Retrieve the gene names from the SIMS model\n",
    "\n",
    "explain = pd.DataFrame(explainability_matrix, columns=gene_names)   # Create a Pandas DataFrame from the explainability\n",
    "                                                                    # matrix, using gene names as columns\n",
    "\n",
    "mean_explain = explain.mean(axis=0)     # Mean explanation score for each gene across all samples\n",
    "var_explain = explain.var(axis=0)   # Variance of explanation score for each gene across all samples\n",
    "\n",
    "mean_and_var_data = pd.concat([mean_explain, var_explain], axis=1)  # Pandas dataframe containing information on gene importance\n",
    "mean_and_var_data.columns = [\"mean_explain\", \"var_explain\"]\n",
    "\n",
    "\n",
    "top10_genes = mean_explain.nlargest(10) # Can increase to top 20, 30, etc.\n",
    "print(\"Top 10 most important genes:\")\n",
    "print(top10_genes)"
   ]
  }
 ],
 "metadata": {
  "kernelspec": {
   "display_name": "Python 3",
   "language": "python",
   "name": "python3"
  },
  "language_info": {
   "codemirror_mode": {
    "name": "ipython",
    "version": 3
   },
   "file_extension": ".py",
   "mimetype": "text/x-python",
   "name": "python",
   "nbconvert_exporter": "python",
   "pygments_lexer": "ipython3",
   "version": "3.9.19"
  }
 },
 "nbformat": 4,
 "nbformat_minor": 2
}
